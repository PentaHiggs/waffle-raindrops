{
 "cells": [
  {
   "cell_type": "markdown",
   "metadata": {},
   "source": [
    "# Creating Customer Segments"
   ]
  },
  {
   "cell_type": "markdown",
   "metadata": {},
   "source": [
    "In this project you, will analyze a dataset containing annual spending amounts for internal structure, to understand the variation in the different types of customers that a wholesale distributor interacts with.\n",
    "\n",
    "Instructions:\n",
    "\n",
    "- Run each code block below by pressing **Shift+Enter**, making sure to implement any steps marked with a TODO.\n",
    "- Answer each question in the space provided by editing the blocks labeled \"Answer:\".\n",
    "- When you are done, submit the completed notebook (.ipynb) with all code blocks executed, as well as a .pdf version (File > Download as)."
   ]
  },
  {
   "cell_type": "code",
   "execution_count": 9,
   "metadata": {
    "collapsed": false
   },
   "outputs": [
    {
     "name": "stdout",
     "output_type": "stream",
     "text": [
      "Dataset has 440 rows, 6 columns\n",
      "   Fresh  Milk  Grocery  Frozen  Detergents_Paper  Delicatessen\n",
      "0  12669  9656     7561     214              2674          1338\n",
      "1   7057  9810     9568    1762              3293          1776\n",
      "2   6353  8808     7684    2405              3516          7844\n",
      "3  13265  1196     4221    6404               507          1788\n",
      "4  22615  5410     7198    3915              1777          5185\n"
     ]
    }
   ],
   "source": [
    "# Import libraries: NumPy, pandas, matplotlib\n",
    "import numpy as np\n",
    "import pandas as pd\n",
    "import matplotlib.pyplot as plt\n",
    "\n",
    "# Tell iPython to include plots inline in the notebook\n",
    "%matplotlib inline\n",
    "\n",
    "# Read dataset\n",
    "data = pd.read_csv(\"wholesale-customers.csv\")\n",
    "print \"Dataset has {} rows, {} columns\".format(*data.shape)\n",
    "print data.head()  # print the first 5 rows"
   ]
  },
  {
   "cell_type": "markdown",
   "metadata": {},
   "source": [
    "##Feature Transformation"
   ]
  },
  {
   "cell_type": "markdown",
   "metadata": {},
   "source": [
    "**1)** In this section you will be using PCA and ICA to start to understand the structure of the data. Before doing any computations, what do you think will show up in your computations? List one or two ideas for what might show up as the first PCA dimensions, or what type of vectors will show up as ICA dimensions."
   ]
  },
  {
   "cell_type": "markdown",
   "metadata": {},
   "source": [
    "Well, ICA discovers underlying statistically independent causes.  So, while it is the case that our data consists of the yearly net price of all products in various categories ordered by stores, there may be independent trends consisting of combinations of the categories that get revealed, corresponding to maybe a part of a store or type of store or independent variance attributable to geographic position. In the context of our lesson, we may find a component that corresponds to either small stores or some shared property of small stores that might help us solve our dilemma.  PCA will find the best way to describe many features in terms of lesser amounts of new features which are rotations of the old ones.  So it'll tell me what, in essence, a store is like, and the best first correction to that.  "
   ]
  },
  {
   "cell_type": "markdown",
   "metadata": {},
   "source": [
    "###PCA"
   ]
  },
  {
   "cell_type": "code",
   "execution_count": 10,
   "metadata": {
    "collapsed": false
   },
   "outputs": [
    {
     "name": "stdout",
     "output_type": "stream",
     "text": [
      "[[-0.97653685 -0.12118407 -0.06154039 -0.15236462  0.00705417 -0.06810471]\n",
      " [-0.11061386  0.51580216  0.76460638 -0.01872345  0.36535076  0.05707921]\n",
      " [-0.17855726  0.50988675 -0.27578088  0.71420037 -0.20440987  0.28321747]\n",
      " [-0.04187648 -0.64564047  0.37546049  0.64629232  0.14938013 -0.02039579]\n",
      " [ 0.015986    0.20323566 -0.1602915   0.22018612  0.20793016 -0.91707659]\n",
      " [-0.01576316  0.03349187  0.41093894 -0.01328898 -0.87128428 -0.26541687]]\n",
      "[ 0.45961362  0.40517227  0.07003008  0.04402344  0.01502212  0.00613848]\n"
     ]
    }
   ],
   "source": [
    "# TODO: Apply PCA with the same number of dimensions as variables in the dataset\n",
    "from sklearn.decomposition import PCA\n",
    "pca = PCA()\n",
    "pca.fit(data)\n",
    "\n",
    "# Print the components and the amount of variance in the data contained in each dimension\n",
    "print pca.components_\n",
    "print pca.explained_variance_ratio_"
   ]
  },
  {
   "cell_type": "markdown",
   "metadata": {},
   "source": [
    "**2)** How quickly does the variance drop off by dimension? If you were to use PCA on this dataset, how many dimensions would you choose for your analysis? Why?"
   ]
  },
  {
   "cell_type": "markdown",
   "metadata": {
    "collapsed": true
   },
   "source": [
    "It drops off quite quickly after the first two components, by 82 percent, then about 50 percent on average afterwards.  The cliff after the second principal component seems to suggest the second PC a good cutoff point; the components afterwards aren't explaining very much variance. "
   ]
  },
  {
   "cell_type": "markdown",
   "metadata": {},
   "source": [
    "**3)** What do the dimensions seem to represent? How can you use this information?"
   ]
  },
  {
   "cell_type": "markdown",
   "metadata": {
    "collapsed": true
   },
   "source": [
    "The first dimension, at least, can be interpreted as the typical store ratio of orders.  What I mean by that is that if we consider all possible feature vectors, this is the one that gets closest to describing the data by itself, up to a constant multiplier. The first two are then just the two feature vectors that do as above.  We can use this information to simplify the data we use other learning algorithms on, since most of the information si going to be contained in the linear combination of these first two feature vectors, the last 4 are only minor corrections.\n",
    "\n",
    "That's what PCA is in the abstract, but is there a concrete interpretation of the specific component vectors we obtained?  Well, the first PCA component consists almost entirely of the Fresh category, along with positive (same sign as Fresh) amounts of the other categories.  The second component, on the other hand, contains mostly Grocery, Milk and Detergents (in that order of importance) , with a small anti-correlation with Fresh. It's a bit challenging to concretely interpret these vectors since we don't have much information on what products exactly fall under the categories such as \"Fresh\" (What belongs to \"Fresh\" as opposed to \"Grocery\"?).  \n",
    "\n",
    "Nonetheless, the combination exhibited in the second PCA component does seem to suggest a sort of small corner-store pattern of orders, whereas the combination in the first component could be moreso the tendencies of the bigger actors, maybe large restaurants that need a steady stream of fresh ingredients but not much else. "
   ]
  },
  {
   "cell_type": "markdown",
   "metadata": {},
   "source": [
    "###ICA"
   ]
  },
  {
   "cell_type": "code",
   "execution_count": 11,
   "metadata": {
    "collapsed": false,
    "scrolled": true
   },
   "outputs": [
    {
     "name": "stdout",
     "output_type": "stream",
     "text": [
      "Fresh               12000.297727\n",
      "Milk                 5796.265909\n",
      "Grocery              7951.277273\n",
      "Frozen               3071.931818\n",
      "Detergents_Paper     2881.493182\n",
      "Delicatessen         1524.870455\n",
      "dtype: float64\n",
      "Fresh               12632.948725\n",
      "Milk                 7371.985612\n",
      "Grocery              9492.357638\n",
      "Frozen               4849.153520\n",
      "Detergents_Paper     4762.433350\n",
      "Delicatessen         2816.899449\n",
      "dtype: float64\n",
      "\n",
      " -ICA Component Matrix- \n",
      "[[ -3.97588067e-06   8.58810481e-07   6.22936758e-07   6.77557987e-07\n",
      "   -2.05820600e-06   1.04413407e-06]\n",
      " [  3.86423798e-07   2.19532138e-07   6.00957131e-07   5.22080119e-07\n",
      "   -5.10344433e-07  -1.80926352e-05]\n",
      " [ -3.00084606e-07   2.30363688e-06   1.20692429e-05  -1.46224404e-06\n",
      "   -2.82083056e-05  -5.73252616e-06]\n",
      " [ -2.10736423e-07   1.88860919e-06  -6.40886309e-06  -4.13452786e-07\n",
      "    7.66677805e-07   1.44568705e-06]\n",
      " [ -8.65217636e-07  -1.40390848e-07   7.74171097e-07   1.11461443e-05\n",
      "   -5.55401055e-07  -5.95231610e-06]\n",
      " [ -1.53571959e-07  -9.84565773e-06   5.80897162e-06   3.64025624e-07\n",
      "   -3.31268807e-06   6.05793080e-06]]\n",
      "0.0476731294623\n",
      "\n",
      " -Rescaled Source Data- \n",
      "[[ 11658.06532922   6239.45302569  10954.63808962   4130.01196516\n",
      "    -320.22155794   -948.33565909]\n",
      " [ 17998.58216892   4946.54407333  11756.36090106   3019.13029033\n",
      "    1746.7672261    -229.20474291]\n",
      " [ 19874.02246391 -12247.19934849  -1554.58356655   4952.54286707\n",
      "   -1228.61331879   1855.66178836]\n",
      " ..., \n",
      " [  8318.17067271   6234.31930663   -979.90329816  -8558.44660238\n",
      "     449.90981233   1239.89846571]\n",
      " [ 13270.67454813   3403.96884226   7707.12279864   6066.17656332\n",
      "     169.48467988   2499.0763013 ]\n",
      " [ 20240.31493466   8668.70140924   9607.61591226   5751.5971954\n",
      "     975.55997815   2003.77637526]]\n",
      "\n",
      " -Rescaled ICA Component Matrix- \n",
      "[[ -39.75880666    8.58810481    6.22936758    6.77557987  -20.58206004\n",
      "    10.44134068]\n",
      " [   3.86423798    2.19532138    6.00957131    5.22080119   -5.10344433\n",
      "  -180.92635249]\n",
      " [  -3.00084606   23.03636881  120.69242872  -14.62244044 -282.08305637\n",
      "   -57.32526165]\n",
      " [  -2.10736423   18.88609188  -64.08863086   -4.13452786    7.66677805\n",
      "    14.45687048]\n",
      " [  -8.65217636   -1.40390848    7.74171097  111.46144297   -5.55401055\n",
      "   -59.52316099]\n",
      " [  -1.53571959  -98.45657735   58.08971616    3.64025624  -33.12688069\n",
      "    60.57930802]]\n",
      "\n",
      " -Rescaled ICA Mixing Matrix- \n",
      "[[-260.16763975  -35.41039361   21.40303244   -3.39601816   20.7900324\n",
      "   -19.42339323]\n",
      " [   2.28685103  -51.05998707   11.98158677  -87.02928851    4.3997175\n",
      "  -116.46008181]\n",
      " [  10.56136675  -25.04675592   -1.12927117 -193.66927803   -5.59343861\n",
      "   -36.97163828]\n",
      " [ -23.68455291  -32.88667725    0.97126486    5.03026421   93.10712446\n",
      "    -2.93469152]\n",
      " [   9.94923482   -0.93648636  -35.55762478  -89.19967551   -7.73517117\n",
      "   -24.47274966]\n",
      " [  -6.1422104   -58.40145942    1.59601155   -4.90012658    3.21651353\n",
      "    -2.45035473]]\n"
     ]
    }
   ],
   "source": [
    "# TODO: Fit an ICA model to the data\n",
    "# Note: Adjust the data to have center at the origin first!\n",
    "from sklearn.decomposition import FastICA\n",
    "from sklearn.preprocessing import StandardScaler\n",
    "\n",
    "# Adjusting data to have zero mean\n",
    "\n",
    "data_mean = np.mean(data)\n",
    "print data_mean\n",
    "\n",
    "data_std = np.std(data)\n",
    "print data_std\n",
    "\n",
    "adjusted_data = data - data_mean\n",
    "\n",
    "# Just making sure we did this right...\n",
    "np.testing.assert_allclose(np.mean(adjusted_data) , np.zeros(6), atol=1.0e-10)\n",
    "\n",
    "ica = FastICA()\n",
    "source_data = ica.fit_transform(adjusted_data)\n",
    "components = ica.components_\n",
    "\n",
    "print \"\\n -ICA Component Matrix- \"\n",
    "print components \n",
    "\n",
    "source_data_std = np.std(source_data)\n",
    "print source_data_std\n",
    "\n",
    "np.testing.assert_allclose(np.mean(source_data), np.zeros(6), atol=1.0e-10)\n",
    "\n",
    "# Scale the source data to the variance and mean of the original data\n",
    "source_data /= source_data_std\n",
    "source_data *= data_std\n",
    "source_data += data_mean\n",
    "\n",
    "print \"\\n -Rescaled Source Data- \"\n",
    "print source_data\n",
    "\n",
    "print \"\\n -Rescaled ICA Component Matrix- \"\n",
    "print components * 10000000\n",
    "\n",
    "print \"\\n -Rescaled ICA Mixing Matrix- \"\n",
    "print ica.mixing_ / 1000"
   ]
  },
  {
   "cell_type": "markdown",
   "metadata": {},
   "source": [
    "**4)** For each vector in the ICA decomposition, write a sentence or two explaining what sort of object or property it corresponds to. What could these components be used for?"
   ]
  },
  {
   "cell_type": "markdown",
   "metadata": {
    "collapsed": true
   },
   "source": [
    "-Warning-\n",
    "The ICA Components are numbered here as they are arranged in my notes, not necessarily as they are here in the printout above\n",
    "Make sure to rearrange the descriptions below as needed before submission\n",
    "\n",
    "1) This ICA component admits a very simple explanation; it consists almost entirely of Delicatessen with trivial amounts of the other categories.  It most likely corresponds to a traditional Delicatessen section of a store.\n",
    "2) One could possibly interpret this as  the delivery of frozen meat; in which case it would make sense that it's in opposition to deli meat, since if, say, a restaurant orders frozen meat it's unlikely to order the fresh version as well. \n",
    "3) This component is dominated by the Paper category, but intrestingly enough if you look at the source data and the net money spent by each customer, it has almost no correlation with the amount spent per customer at all.  It's completely independent of whether a business orders a lot per year (presumalbly, is large) or whether it orders very little (is small).  Seeing as our aim is to discern the habits of our smaller customers, this component isn't very useful.\n",
    "4) This corresponds very neatly with the Fresh category from before, hence I'll just interpret it as such and not as a new fundamental feature.\n",
    "5) This component corresponds mostly to the Milk category from before, but it interestingly enough anti-correlates with both Grocery and Deli but has a slight correlation with the Detergents and Paper category.   \n",
    "6) \n",
    "\n",
    "\n",
    "If these ICA vectors corresponded to specific objects or properties, then we could use them as an alternate basis for our data in terms of these more basic objects and properties instead of in terms of the original categories.  However, I've unfortunately not been able to glean much from them, besides the fact that ICA5 is almost completely independent of how big the customer is.  We could, conceivably, use the source data with ICA5 removed as the new data to then do other analysis on, although it wouldn't fit in considering the predetermined structure of this assignment.  But yes, it would be interesting to run PCA on just the 5 ICA components, then compose the two transformations to describe the two largest PCA components in terms of the original categories, and analyze this new data.\n"
   ]
  },
  {
   "cell_type": "markdown",
   "metadata": {},
   "source": [
    "##Clustering\n",
    "\n",
    "In this section you will choose either K Means clustering or Gaussian Mixed Models clustering, which implements expectation-maximization. Then you will sample elements from the clusters to understand their significance."
   ]
  },
  {
   "cell_type": "markdown",
   "metadata": {},
   "source": [
    "###Choose a Cluster Type\n",
    "\n",
    "**5)** What are the advantages of using K Means clustering or Gaussian Mixture Models?"
   ]
  },
  {
   "cell_type": "markdown",
   "metadata": {},
   "source": [
    "An advantage of the Gaussian Mixture method is that since we're assuming our data is generated by a mixture of Gaussian distributions, every data point has some probability that it belongs to one of the Gaussians.  It doesn't have a hard cutoff, and since in this case I don't feel like I know very much about the data, I would rather see each point have a component belonging to each Gaussian instead of a hard assignment to a particular mean value.  Gaussian Mixture models can have pathological convergence problems, but those can usually be solved by proper choice of parameters and preprocessing of data.  "
   ]
  },
  {
   "cell_type": "markdown",
   "metadata": {},
   "source": [
    "**6)** Below is some starter code to help you visualize some cluster data. The visualization is based on [this demo](http://scikit-learn.org/stable/auto_examples/cluster/plot_kmeans_digits.html) from the sklearn documentation."
   ]
  },
  {
   "cell_type": "code",
   "execution_count": 12,
   "metadata": {
    "collapsed": true
   },
   "outputs": [],
   "source": [
    "# Import clustering modules\n",
    "from sklearn.cluster import KMeans\n",
    "from sklearn.mixture import GMM"
   ]
  },
  {
   "cell_type": "code",
   "execution_count": 16,
   "metadata": {
    "collapsed": false
   },
   "outputs": [
    {
     "name": "stdout",
     "output_type": "stream",
     "text": [
      "[[  -650.02212207   1585.51909007]\n",
      " [  4426.80497937   4042.45150884]\n",
      " [  4841.9987068    2578.762176  ]\n",
      " [  -990.34643689  -6279.80599663]\n",
      " [-10657.99873116  -2159.72581518]\n",
      " [  2765.96159271   -959.87072713]\n",
      " [   715.55089221  -2013.00226567]\n",
      " [  4474.58366697   1429.49697204]\n",
      " [  6712.09539718  -2205.90915598]\n",
      " [  4823.63435407  13480.55920489]]\n"
     ]
    }
   ],
   "source": [
    "# TODO: First we reduce the data to two dimensions using PCA to capture variation\n",
    "pca2 = PCA(n_components=2, copy=True)\n",
    "reduced_data = pca2.fit_transform(data)\n",
    "print reduced_data[:10]  # print upto 10 elements"
   ]
  },
  {
   "cell_type": "code",
   "execution_count": 22,
   "metadata": {
    "collapsed": false
   },
   "outputs": [
    {
     "name": "stdout",
     "output_type": "stream",
     "text": [
      "GMM(covariance_type='diag', init_params='wmc', min_covar=0.001,\n",
      "  n_components=3, n_init=1, n_iter=100, params='wmc', random_state=None,\n",
      "  thresh=None, tol=0.001, verbose=0)\n"
     ]
    }
   ],
   "source": [
    "# TODO: Implement your clustering algorithm here, and fit it to the reduced data for visualization\n",
    "# The visualizer below assumes your clustering object is named 'clusters'\n",
    "\n",
    "clusters = GMM(n_components=3)\n",
    "clusters.fit(reduced_data)\n",
    "print clusters"
   ]
  },
  {
   "cell_type": "code",
   "execution_count": 23,
   "metadata": {
    "collapsed": false
   },
   "outputs": [],
   "source": [
    "# Plot the decision boundary by building a mesh grid to populate a graph.\n",
    "x_min, x_max = reduced_data[:, 0].min() - 1, reduced_data[:, 0].max() + 1\n",
    "y_min, y_max = reduced_data[:, 1].min() - 1, reduced_data[:, 1].max() + 1\n",
    "hx = (x_max-x_min)/1000.\n",
    "hy = (y_max-y_min)/1000.\n",
    "xx, yy = np.meshgrid(np.arange(x_min, x_max, hx), np.arange(y_min, y_max, hy))\n",
    "\n",
    "# Obtain labels for each point in mesh. Use last trained model.\n",
    "Z = clusters.predict(np.c_[xx.ravel(), yy.ravel()])"
   ]
  },
  {
   "cell_type": "code",
   "execution_count": 24,
   "metadata": {
    "collapsed": false
   },
   "outputs": [
    {
     "name": "stdout",
     "output_type": "stream",
     "text": [
      "[[  7007.45427668   4294.01360677]\n",
      " [-17858.6536729   10050.33930164]\n",
      " [   313.48539412  -6497.20521133]]\n"
     ]
    }
   ],
   "source": [
    "# TODO: Find the centroids for KMeans or the cluster means for GMM \n",
    "\n",
    "centroids = clusters.means_\n",
    "print centroids"
   ]
  },
  {
   "cell_type": "code",
   "execution_count": 25,
   "metadata": {
    "collapsed": false,
    "scrolled": true
   },
   "outputs": [
    {
     "data": {
      "image/png": "[encoded data removed]",
      "text/plain": [
       "<matplotlib.figure.Figure at 0x1b9c1c50>"
      ]
     },
     "metadata": {},
     "output_type": "display_data"
    }
   ],
   "source": [
    "# Put the result into a color plot\n",
    "Z = Z.reshape(xx.shape)\n",
    "plt.figure(1)\n",
    "plt.clf()\n",
    "plt.imshow(Z, interpolation='nearest',\n",
    "           extent=(xx.min(), xx.max(), yy.min(), yy.max()),\n",
    "           cmap=plt.cm.Paired,\n",
    "           aspect='auto', origin='lower')\n",
    "\n",
    "plt.plot(reduced_data[:, 0], reduced_data[:, 1], 'k.', markersize=2)\n",
    "plt.scatter(centroids[:, 0], centroids[:, 1],\n",
    "            marker='x', s=169, linewidths=3,\n",
    "            color='w', zorder=10)\n",
    "plt.title('Clustering on the wholesale grocery dataset (PCA-reduced data)\\n'\n",
    "          'Centroids are marked with white cross')\n",
    "plt.xlim(x_min, x_max)\n",
    "plt.ylim(y_min, y_max)\n",
    "plt.xticks(())\n",
    "plt.yticks(())\n",
    "plt.show()"
   ]
  },
  {
   "cell_type": "markdown",
   "metadata": {},
   "source": [
    "**7)** What are the central objects in each cluster? Describe them as customers."
   ]
  },
  {
   "cell_type": "markdown",
   "metadata": {
    "collapsed": true
   },
   "source": [
    "Answer: "
   ]
  },
  {
   "cell_type": "markdown",
   "metadata": {},
   "source": [
    "###Conclusions\n",
    "\n",
    "** 8)** Which of these techniques did you feel gave you the most insight into the data?"
   ]
  },
  {
   "cell_type": "markdown",
   "metadata": {
    "collapsed": true
   },
   "source": [
    "Answer: "
   ]
  },
  {
   "cell_type": "markdown",
   "metadata": {
    "collapsed": true
   },
   "source": [
    "**9)** How would you use that technique to help the company design new experiments?"
   ]
  },
  {
   "cell_type": "markdown",
   "metadata": {},
   "source": [
    "Answer: "
   ]
  },
  {
   "cell_type": "markdown",
   "metadata": {},
   "source": [
    "**10)** How would you use that data to help you predict future customer needs?"
   ]
  },
  {
   "cell_type": "markdown",
   "metadata": {},
   "source": [
    "Answer: "
   ]
  }
 ],
 "metadata": {
  "kernelspec": {
   "display_name": "Python 2",
   "language": "python",
   "name": "python2"
  },
  "language_info": {
   "codemirror_mode": {
    "name": "ipython",
    "version": 2
   },
   "file_extension": ".py",
   "mimetype": "text/x-python",
   "name": "python",
   "nbconvert_exporter": "python",
   "pygments_lexer": "ipython2",
   "version": "2.7.11"
  }
 },
 "nbformat": 4,
 "nbformat_minor": 0
}
